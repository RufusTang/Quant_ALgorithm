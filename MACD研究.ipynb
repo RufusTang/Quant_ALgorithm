{
 "cells": [
  {
   "cell_type": "code",
   "execution_count": 36,
   "metadata": {},
   "outputs": [],
   "source": [
    "import jqdata               #导入聚宽函数库\n",
    "from six import StringIO    #使用聚宽readfile函数\n",
    "import numpy as np\n",
    "import pandas as pd\n",
    "import talib"
   ]
  },
  {
   "cell_type": "markdown",
   "metadata": {},
   "source": [
    "从“研究模块”中提取测试的代码数据\n",
    "注意：在聚宽中使用“g.变量”表示全局变量，只能策略中使用，研究中无法使用，认为是调用函数"
   ]
  },
  {
   "cell_type": "code",
   "execution_count": 37,
   "metadata": {},
   "outputs": [
    {
     "name": "stdout",
     "output_type": "stream",
     "text": [
      "['600877.XSHG', '002122.XSHE', '600015.XSHG', '600269.XSHG', '600026.XSHG', '600657.XSHG', '000709.XSHE', '600016.XSHG', '601898.XSHG', '000926.XSHE', '601328.XSHG', '601818.XSHG', '600000.XSHG', '000900.XSHE', '000959.XSHE', '000937.XSHE', '600823.XSHG', '601988.XSHG', '601169.XSHG', '600811.XSHG', '600864.XSHG', '601107.XSHG', '601166.XSHG', '600266.XSHG', '601998.XSHG', '600894.XSHG', '600350.XSHG', '601666.XSHG', '000809.XSHE', '600919.XSHG', '600219.XSHG', '000001.XSHE', '000157.XSHE', '600123.XSHG', '000667.XSHE', '600508.XSHG', '000698.XSHE', '000543.XSHE', '000791.XSHE', '000761.XSHE', '600308.XSHG', '601288.XSHG', '600157.XSHG', '600875.XSHG', '600649.XSHG', '600020.XSHG', '600881.XSHG', '601186.XSHG', '000780.XSHE', '600510.XSHG']\n"
     ]
    }
   ],
   "source": [
    "# file_handle = read_file(\"sample_wait_distill.csv\")\n",
    "# code_wait_distill = pd.read_csv(StringIO(file_handle))\n",
    "# stock_list_all = list(code_wait_distill['code'])\n",
    "# print stock_list_all\n",
    "\n",
    "stock_to_choose = get_fundamentals(query(\n",
    "        valuation.code, valuation.pe_ratio, \n",
    "        valuation.pb_ratio,valuation.market_cap, \n",
    "        indicator.eps, indicator.inc_net_profit_annual\n",
    "    ).filter(\n",
    "        valuation.pe_ratio < 40,\n",
    "        valuation.pe_ratio > 5\n",
    "        # indicator.eps > 0.3,\n",
    "        # indicator.inc_net_profit_annual > 0.10,\n",
    "        # indicator.roe > 15\n",
    "    ).order_by(\n",
    "        valuation.pb_ratio.asc()\n",
    "    ).limit(\n",
    "        50), date=None)\n",
    "\n",
    "stock_list_all = list(stock_to_choose['code'])\n",
    "print stock_list_all"
   ]
  },
  {
   "cell_type": "markdown",
   "metadata": {},
   "source": [
    "从文件中读取价格数据"
   ]
  },
  {
   "cell_type": "code",
   "execution_count": 38,
   "metadata": {},
   "outputs": [
    {
     "name": "stdout",
     "output_type": "stream",
     "text": [
      "            open  close\n",
      "2015-12-16  6.40   6.40\n",
      "2015-12-17  6.42   6.66\n",
      "2015-12-18  6.65   6.63\n",
      "2015-12-21  6.63   6.78\n",
      "2015-12-22  6.79   6.82\n"
     ]
    }
   ],
   "source": [
    "stock_name = stock_list_all[5]\n",
    "stock_price = get_price(stock_name, count = 500, end_date='2017-12-31', frequency='daily', fields=['open', 'close'])\n",
    "\n",
    "# stock_price[stock_price['close']==0]=np.nan\n",
    "# stock_price= stock_price.dropna()\n",
    "\n",
    "close_price = stock_price['close']\n",
    "\n",
    "print stock_price.head()"
   ]
  },
  {
   "cell_type": "markdown",
   "metadata": {},
   "source": [
    "计算MACD的值"
   ]
  },
  {
   "cell_type": "code",
   "execution_count": 39,
   "metadata": {},
   "outputs": [
    {
     "name": "stdout",
     "output_type": "stream",
     "text": [
      "[ 0.01547295  0.02043526  0.02129286  0.02207814  0.02925964]\n",
      "[ 0.01547295  0.02043526  0.02129286  0.02207814  0.02925964]\n"
     ]
    }
   ],
   "source": [
    "dif, dea, macd = talib.MACD(stock_price['close'].values, fastperiod=12, slowperiod=26, signalperiod=20)\n",
    "\n",
    "print (dif - dea)[-5:]\n",
    "print macd[-5:]"
   ]
  },
  {
   "cell_type": "markdown",
   "metadata": {},
   "source": [
    "计算出MACD，signal，hist的值\n",
    "1、DIF：差离值 DIF = EMA12 - EMA26\n",
    "2、DEA：根据差离值计算其9日的EMA，即离差平均值，是所求的DEA值。今日DEA = （前一日DEA X 8/10 + 今日DIF X 2/10）\n",
    "3、MACD：BAR=（DIF-DEA)2，即为MACD柱状图。但是talib中MACD的计算是bar = (dif-dea)1\n",
    "\n",
    "经过验证，macd = dif - dea"
   ]
  },
  {
   "cell_type": "code",
   "execution_count": 40,
   "metadata": {},
   "outputs": [
    {
     "name": "stdout",
     "output_type": "stream",
     "text": [
      "(array([111, 157, 191, 255, 275, 415, 486, 490]),)\n"
     ]
    }
   ],
   "source": [
    "print np.where((macd[:-1] < 0) & (macd[1:] > 0))"
   ]
  },
  {
   "cell_type": "code",
   "execution_count": 41,
   "metadata": {},
   "outputs": [
    {
     "name": "stdout",
     "output_type": "stream",
     "text": [
      "[112 158 192 256 276 416 487 491]\n"
     ]
    }
   ],
   "source": [
    "id_x_gold = np.where((macd[:-1] < 0) & (macd[1:] > 0))[0] + 1\n",
    "print id_x_gold"
   ]
  },
  {
   "cell_type": "markdown",
   "metadata": {},
   "source": [
    "需要对位置取第一个值，同时因为MACD已经是加减后的数据，所以要加1"
   ]
  },
  {
   "cell_type": "code",
   "execution_count": 42,
   "metadata": {},
   "outputs": [
    {
     "name": "stdout",
     "output_type": "stream",
     "text": [
      "[112, 158, 192, 256, 276, 416, 487]\n"
     ]
    }
   ],
   "source": [
    "id_x_gold = [elem for elem in id_x_gold if elem < 490 ]  # 防止越界\n",
    "print id_x_gold\n"
   ]
  },
  {
   "cell_type": "code",
   "execution_count": 43,
   "metadata": {},
   "outputs": [
    {
     "name": "stdout",
     "output_type": "stream",
     "text": [
      "7 [4, 4, 5, 5, 4, 4] [3, 3, 2, 2, 3, 3]\n"
     ]
    }
   ],
   "source": [
    "\n",
    "total_count = 0\n",
    "win_count = [0 for i in range(6)]    #用数组存储胜利的次数，从两天后开始计算\n",
    "lose_count = [0 for i in range(6)]   #用数据存储失败的次数，从两天后开始计算\n",
    "\n",
    "\n",
    "for position in id_x_gold:\n",
    "    total_count += 1\n",
    "    \n",
    "    if close_price[position] < close_price[position + 2]:\n",
    "        win_count[0] += 1\n",
    "    else:\n",
    "        lose_count[0] += 1\n",
    "        \n",
    "    if close_price[position] < close_price[position + 3]:\n",
    "        win_count[1] += 1\n",
    "    else:\n",
    "        lose_count[1] += 1\n",
    "        \n",
    "    if close_price[position] < close_price[position + 4]:\n",
    "        win_count[2] += 1\n",
    "    else:\n",
    "        lose_count[2] += 1\n",
    "        \n",
    "    if close_price[position] < close_price[position + 5]:\n",
    "        win_count[3] += 1\n",
    "    else:\n",
    "        lose_count[3] += 1\n",
    "        \n",
    "    if close_price[position] < close_price[position + 6]:\n",
    "        win_count[4] += 1\n",
    "    else:\n",
    "        lose_count[4] += 1\n",
    "        \n",
    "    if close_price[position] < close_price[position + 7]:\n",
    "        win_count[5] += 1\n",
    "    else:\n",
    "        lose_count[5] += 1\n",
    "        \n",
    "       \n",
    "print total_count,win_count,lose_count"
   ]
  },
  {
   "cell_type": "code",
   "execution_count": null,
   "metadata": {},
   "outputs": [],
   "source": []
  },
  {
   "cell_type": "code",
   "execution_count": null,
   "metadata": {},
   "outputs": [],
   "source": []
  }
 ],
 "metadata": {
  "kernelspec": {
   "display_name": "Python 2",
   "language": "python",
   "name": "python2"
  },
  "language_info": {
   "codemirror_mode": {
    "name": "ipython",
    "version": 2
   },
   "file_extension": ".py",
   "mimetype": "text/x-python",
   "name": "python",
   "nbconvert_exporter": "python",
   "pygments_lexer": "ipython2",
   "version": "2.7.10"
  }
 },
 "nbformat": 4,
 "nbformat_minor": 2
}
