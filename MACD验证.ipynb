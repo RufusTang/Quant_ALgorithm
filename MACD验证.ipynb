{
 "cells": [
  {
   "cell_type": "code",
   "execution_count": 9,
   "metadata": {},
   "outputs": [
    {
     "name": "stdout",
     "output_type": "stream",
     "text": [
      "{'000651.XSHE': [26, [15, 18, 19, 15, 19, 18], [11, 8, 7, 11, 7, 8]]}\n"
     ]
    }
   ],
   "source": [
    "import jqdata               #导入聚宽函数库\n",
    "from six import StringIO    #使用聚宽readfile函数\n",
    "import numpy as np\n",
    "import pandas as pd\n",
    "import talib\n",
    "from __future__ import division\n",
    "\n",
    "import matplotlib.pyplot as plt\n",
    "\n",
    "\n",
    "\n",
    "stock_list_all = ['000651.XSHE']\n",
    "\n",
    "\n",
    "stat = {}\n",
    "for stock_name in stock_list_all:\n",
    "    stock_price = get_price(stock_name, count = 500, end_date='2018-5-31', frequency='daily', \n",
    "                            fields=['open', 'close'],skip_paused=True, fq='none')\n",
    "\n",
    "    stock_price[stock_price['close']==0]=np.nan\n",
    "    stock_price= stock_price.dropna()\n",
    "\n",
    "    close_price = stock_price['close']\n",
    "    \n",
    "\n",
    "    \n",
    "    if len(close_price) > 20:\n",
    "        dif, dea, macd = talib.MACD(stock_price['close'].values, fastperiod=5, slowperiod=10, signalperiod=5)\n",
    "\n",
    "        id_x_gold = np.where((macd[:-1] < 0) & (macd[1:] > 0))[0] + 1\n",
    "\n",
    "        id_x_gold = [elem for elem in id_x_gold if elem < len(close_price) - 10 ]  # 防止越界\n",
    "\n",
    "        total_count = 0\n",
    "        win_count = [0 for i in range(6)]    #用数组存储胜利的次数，从两天后开始计算\n",
    "        lose_count = [0 for i in range(6)]   #用数据存储失败的次数，从两天后开始计算\n",
    "\n",
    "\n",
    "\n",
    "        if len(id_x_gold) > 0:\n",
    "            for position in id_x_gold:\n",
    "                if dif[position] > 0:\n",
    "                    total_count += 1\n",
    "\n",
    "                    if close_price[position] < close_price[position + 2]:\n",
    "                        win_count[0] += 1\n",
    "                    else:\n",
    "                        lose_count[0] += 1\n",
    "\n",
    "                    if close_price[position] < close_price[position + 3]:\n",
    "                        win_count[1] += 1\n",
    "                    else:\n",
    "                        lose_count[1] += 1\n",
    "\n",
    "                    if close_price[position] < close_price[position + 4]:\n",
    "                        win_count[2] += 1\n",
    "                    else:\n",
    "                        lose_count[2] += 1\n",
    "\n",
    "                    if close_price[position] < close_price[position + 5]:\n",
    "                        win_count[3] += 1\n",
    "                    else:\n",
    "                        lose_count[3] += 1\n",
    "\n",
    "                    if close_price[position] < close_price[position + 6]:\n",
    "                        win_count[4] += 1\n",
    "                    else:\n",
    "                        lose_count[4] += 1\n",
    "\n",
    "                    if close_price[position] < close_price[position + 7]:\n",
    "                        win_count[5] += 1\n",
    "                    else:\n",
    "                        lose_count[5] += 1\n",
    "\n",
    "            \n",
    "    stat[stock_name] = [total_count,win_count,lose_count ]\n",
    "\n",
    "print stat"
   ]
  },
  {
   "cell_type": "code",
   "execution_count": 7,
   "metadata": {},
   "outputs": [
    {
     "name": "stdout",
     "output_type": "stream",
     "text": [
      "{'2017-05-23 00:00:00': [0.50490451954069471, 0.4651653672334336, 0.039739152307261105, 'win'], '2017-03-10 00:00:00': [0.65329711173930249, 0.62400100565720951, 0.029296106082092987, 'win'], '2016-11-22 00:00:00': [0.38319909577647948, 0.35844056377214351, 0.024758532004335976, 'win'], '2016-11-17 00:00:00': [0.35928179552940875, 0.35576543490611628, 0.0035163606232924693, 'win'], '2018-01-02 00:00:00': [0.28642832294990939, 0.25184566020643939, 0.034582662743469994, 'win'], '2017-06-07 00:00:00': [0.51580628404846607, 0.49914965466209238, 0.016656629386373689, 'win'], '2015-12-21 00:00:00': [0.84497025881933041, 0.74561398889281194, 0.09935626992651847, 'win']}\n"
     ]
    }
   ],
   "source": [
    "import time\n",
    "\n",
    "dif, dea, macd = talib.MACD(stock_price['close'].values, fastperiod=12, slowperiod=26, signalperiod=9)\n",
    "\n",
    "\n",
    "gold_data = {}\n",
    "\n",
    "date = ''\n",
    "diff_date = 0\n",
    "dea_data = 0\n",
    "macd_date = 0\n",
    "\n",
    "# print dif\n",
    "for position in id_x_gold:\n",
    "#     print time.strptime(str(close_price.index[position]), \"%Y-%m-%d %H:%M:%S\")\n",
    "#     print str(close_price.index[position])\n",
    "    \n",
    "    if (close_price[position] < close_price[position + 3]) & (dif[position] > 0):\n",
    "#         pass\n",
    "        gold_data[str(close_price.index[position])] = [dif[position],dea[position],macd[position],'win']\n",
    "    else:\n",
    "        pass\n",
    "#         gold_data[str(close_price.index[position])] = [dif[position],dea[position],macd[position],'lose']\n",
    "\n",
    "    \n",
    "print gold_data\n",
    "#     date = time.strftime(\"%Y-%m-%d %H:%M:%S\", close_price.index[position]) \n",
    "#     \n",
    "# plt.plot_date(close_price.index,close_price,linestyle='--',color='red',marker='<')\n",
    "# plt.show()"
   ]
  },
  {
   "cell_type": "code",
   "execution_count": null,
   "metadata": {},
   "outputs": [],
   "source": []
  }
 ],
 "metadata": {
  "kernelspec": {
   "display_name": "Python 2",
   "language": "python",
   "name": "python2"
  },
  "language_info": {
   "codemirror_mode": {
    "name": "ipython",
    "version": 2
   },
   "file_extension": ".py",
   "mimetype": "text/x-python",
   "name": "python",
   "nbconvert_exporter": "python",
   "pygments_lexer": "ipython2",
   "version": "2.7.10"
  }
 },
 "nbformat": 4,
 "nbformat_minor": 2
}
