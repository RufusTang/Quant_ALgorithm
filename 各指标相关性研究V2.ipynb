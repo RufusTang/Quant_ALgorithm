{
 "cells": [
  {
   "cell_type": "code",
   "execution_count": 2,
   "metadata": {},
   "outputs": [],
   "source": [
    "from __future__ import division      #除数可以显示为float\n",
    "\n",
    "import jqdata               #导入聚宽函数库\n",
    "from six import StringIO    #使用聚宽readfile函数\n",
    "import numpy as np\n",
    "import pandas as pd\n",
    "import talib\n",
    "\n",
    "import time                 #使用time stamp\n",
    "import datetime             \n",
    "\n",
    "import matplotlib.pyplot as plt"
   ]
  },
  {
   "cell_type": "markdown",
   "metadata": {},
   "source": [
    "适当扩大胜负标准比例，突出特征"
   ]
  },
  {
   "cell_type": "code",
   "execution_count": 2,
   "metadata": {},
   "outputs": [],
   "source": [
    "# 确定全局变量\n",
    "win_num = 1.015      #获胜的比例\n",
    "lose_num = 9.85      #失败的比例\n",
    "even_num = 5        #等待的天数\n",
    "\n",
    "# get_price中用到的参数，\n",
    "sample_count = 2000\n",
    "terminal_date = '2018-5-1'\n",
    "\n",
    "\n",
    "# 最重要的数据列表，存储所有的整合数据，以便做后续的分析用\n",
    "Data_Total_pd = pd.DataFrame()\n"
   ]
  },
  {
   "cell_type": "markdown",
   "metadata": {},
   "source": [
    "确定股票列表的范围，一般挑选沪深300指数"
   ]
  },
  {
   "cell_type": "code",
   "execution_count": 3,
   "metadata": {},
   "outputs": [],
   "source": [
    "#用于测试，分别注解不同的语句，控制股票序列大小\n",
    "stock_list_all = ['000651.XSHE','000858.XSHE','300070.XSHE','601990.XSHG']\n",
    "# stock_list_all = get_index_stocks('000300.XSHG')\n",
    "# stock_list_all = ['601990.XSHG']\n",
    "# print stock_list_all"
   ]
  },
  {
   "cell_type": "markdown",
   "metadata": {},
   "source": [
    "生成第一列：价格"
   ]
  },
  {
   "cell_type": "code",
   "execution_count": 4,
   "metadata": {},
   "outputs": [],
   "source": [
    "pd_price = pd.DataFrame()\n",
    "\n",
    "for stock_name in set(stock_list_all):\n",
    "    # 按照每个股票循环的要求，每次循环对数据进行清零\n",
    "    pd_price = pd.DataFrame()\n",
    "    \n",
    "    # 一、开始取数据\n",
    "    stock_price = get_price(stock_name, count = sample_count, end_date=terminal_date, frequency='1d', \n",
    "                            fields=['open', 'close'], fq='none')\n",
    "\n",
    "    # 对数据进行处理，开盘、收盘价操作性太差，取中间值\n",
    "    stock_price['avg'] = stock_price['open']*0.5 + stock_price['close']*0.5\n",
    "  \n",
    "\n",
    "    # 二、开始对pd_price赋值\n",
    "    \n",
    "    pd_price['code'] =  np.array([stock_name for i in range(0,len(list(stock_price['avg'])))])\n",
    "    pd_price['date'] = np.array(stock_price.index)\n",
    "    \n",
    "  \n",
    "    pd_price['avg_price'] =  np.array(stock_price['avg'])\n",
    "\n",
    "    \n",
    "    Data_Total_pd = Data_Total_pd.append(pd_price)\n",
    "\n",
    "    \n",
    "Data_Total_pd = Data_Total_pd.fillna(0)\n"
   ]
  },
  {
   "cell_type": "markdown",
   "metadata": {},
   "source": [
    "生成第二列，每日的胜败关系\n",
    "\n",
    "注意：\n",
    "1、计算出指标后第二天才进行购买\n",
    "2、第二天的价格计算出来的胜负才能作为胜败的依据\n",
    "3、为方便处理，直接把下一天的胜负上移一行，为后续的相关性对比做准备"
   ]
  },
  {
   "cell_type": "code",
   "execution_count": 5,
   "metadata": {},
   "outputs": [],
   "source": [
    "Data_Total_pd[\"win_rate\"] = None\n",
    "\n",
    "for stock_name in set(stock_list_all):\n",
    "    \n",
    "    # 记录股票的原始信息\n",
    "    price_stock = []\n",
    "    \n",
    "    # 记录胜负信息\n",
    "    win_rate_stock = []\n",
    "        \n",
    "    # 给单支股票的价格信息赋值\n",
    "    price_stock = list(Data_Total_pd[Data_Total_pd['code'] == stock_name]['avg_price'])\n",
    "    \n",
    "\n",
    "    # 开始针对该股票的价格进行胜负判断\n",
    "    # 判断标准\n",
    "    # 1、大于win_num记为“win”\n",
    "    # 2、小于lose_num记为“lose”\n",
    "    # 3、多过even_num天记为“even”\n",
    "#     print len(price_stock)\n",
    "    \n",
    "    # 设置序号，遍历整个价格数组\n",
    "    # 注意：range函数生成的序列不包含函数中的第二个参数（也就是最后一个数）\n",
    "    # 第一次遍历前半部分\n",
    "    \n",
    "\n",
    "    for i in range(0,int(len(price_stock)-even_num)):\n",
    "        \n",
    "        # 通过even_num天的对比，判断胜负，加入到win_rate_stock中\n",
    "        for day_count in range(1,even_num+1):\n",
    "\n",
    "            if price_stock[i+day_count] / price_stock[i] >= win_num:\n",
    "                win_rate_stock.append(\"win\")\n",
    "                break\n",
    "            if price_stock[i+day_count] / price_stock[i] <= lose_num:                \n",
    "                win_rate_stock.append(\"lose\")\n",
    "                break\n",
    "            if day_count >= even_num:\n",
    "                win_rate_stock.append(\"even\")\n",
    "                break\n",
    "     \n",
    "    # 第二次遍历even_num后半部分 \n",
    "    for i in range(int(len(price_stock)-even_num),int(len(price_stock))):\n",
    "        win_rate_stock.append(\"even\")\n",
    "\n",
    "    \n",
    "    # 将下一天的胜负上移一行，为后续的相关性对比做准备\n",
    "    # 赋值时直接处理\n",
    "\n",
    "    win_rate_stock.append(\"even\")\n",
    "\n",
    "    # 开始给pandas函数赋值\n",
    "    Data_Total_pd.loc[Data_Total_pd['code'] == stock_name,\"win_rate\"] = np.array(win_rate_stock[1:])\n",
    "\n",
    "Data_Total_pd = Data_Total_pd.fillna(0)\n"
   ]
  },
  {
   "cell_type": "markdown",
   "metadata": {},
   "source": [
    "生成MACD信息"
   ]
  },
  {
   "cell_type": "code",
   "execution_count": 6,
   "metadata": {},
   "outputs": [],
   "source": [
    "Data_Total_pd[\"MACD_dif\"] = None\n",
    "Data_Total_pd[\"MACD_dea\"] = None\n",
    "Data_Total_pd[\"MACD_macd\"] = None\n",
    "\n",
    "\n",
    "for stock_name in set(stock_list_all):\n",
    "    dif = []\n",
    "    dea = []\n",
    "    macd = []\n",
    "    \n",
    "    macd_price = Data_Total_pd.loc[Data_Total_pd['code'] == stock_name,\"avg_price\"]\n",
    "    \n",
    "\n",
    "    \n",
    "    dif, dea, macd = talib.MACD(np.array(macd_price), fastperiod=5, slowperiod=10, signalperiod=5)\n",
    "    \n",
    "#     print len(dif)\n",
    "#     print len(dea)\n",
    "#     print len(macd)\n",
    "    \n",
    "    Data_Total_pd.loc[Data_Total_pd['code'] == stock_name,\"MACD_dif\"] = np.array(dif)\n",
    "    Data_Total_pd.loc[Data_Total_pd['code'] == stock_name,\"MACD_dea\"] = np.array(dea)\n",
    "    Data_Total_pd.loc[Data_Total_pd['code'] == stock_name,\"MACD_macd\"] = np.array(macd)\n",
    "\n",
    "Data_Total_pd = Data_Total_pd.fillna(0)\n"
   ]
  },
  {
   "cell_type": "markdown",
   "metadata": {},
   "source": [
    "生成均线信息"
   ]
  },
  {
   "cell_type": "code",
   "execution_count": 7,
   "metadata": {},
   "outputs": [],
   "source": [
    "Data_Total_pd[\"EMA_5\"] = None\n",
    "Data_Total_pd[\"EMA_10\"] = None\n",
    "Data_Total_pd[\"EMA_gap\"] = None\n",
    "\n",
    "for stock_name in set(stock_list_all):\n",
    "    ema_5 = []\n",
    "    ema_10 = []\n",
    "    ema_gap = []\n",
    "    \n",
    "    \n",
    "    ema_price = Data_Total_pd.loc[Data_Total_pd['code'] == stock_name,\"avg_price\"]\n",
    "    \n",
    "\n",
    "    ema_5 = talib.EMA(np.array(ema_price), timeperiod=5)\n",
    "    ema_10 = talib.EMA(np.array(ema_price), timeperiod=10)\n",
    "    ema_gap = talib.EMA(np.array(ema_price), timeperiod=5) - talib.EMA(np.array(ema_price), timeperiod=10)\n",
    "    \n",
    "\n",
    "    Data_Total_pd.loc[Data_Total_pd['code'] == stock_name,\"EMA_5\"] = np.array(ema_5)\n",
    "    Data_Total_pd.loc[Data_Total_pd['code'] == stock_name,\"EMA_10\"] = np.array(ema_10)\n",
    "    Data_Total_pd.loc[Data_Total_pd['code'] == stock_name,\"EMA_gap\"] = np.array(ema_gap)\n",
    "    \n",
    "#     print Data_Total_pd\n",
    "Data_Total_pd = Data_Total_pd.fillna(0)\n"
   ]
  },
  {
   "cell_type": "markdown",
   "metadata": {},
   "source": [
    "生成KDJ指标"
   ]
  },
  {
   "cell_type": "code",
   "execution_count": 8,
   "metadata": {},
   "outputs": [],
   "source": [
    "Data_Total_pd[\"KDJ_K\"] = None\n",
    "Data_Total_pd[\"KDJ_D\"] = None\n",
    "Data_Total_pd[\"KDJ_J\"] = None\n",
    "\n",
    "for stock_name in set(stock_list_all):\n",
    "    K_values = []\n",
    "    D_values = []\n",
    "    J_values = []\n",
    "    \n",
    "    \n",
    "    kdj_price = get_price(stock_name, count = sample_count, end_date=terminal_date, frequency='1d', \n",
    "                            fields=['high','low','close'], fq='none')\n",
    "    \n",
    "    \n",
    "    \n",
    "    kdj_price = kdj_price.fillna(0)\n",
    "    \n",
    "    #                  (Today's Close - LowestLow)\n",
    "    # FASTK(Kperiod) = --------------------------- * 100\n",
    "    #                   (HighestHigh - LowestLow)\n",
    "\n",
    "    # FASTD(FastDperiod) = MA Smoothed FASTK over FastDperiod\n",
    "\n",
    "    # SLOWK(SlowKperiod) = MA Smoothed FASTK over SlowKperiod\n",
    "\n",
    "    # SLOWD(SlowDperiod) = MA Smoothed SLOWK over SlowDperiod\n",
    "    \n",
    "    K_values, D_values = talib.STOCH(kdj_price['high'].values,\n",
    "                                   kdj_price['low'].values,\n",
    "                                   kdj_price['close'].values,\n",
    "                                   fastk_period=9,\n",
    "                                   slowk_period=3,\n",
    "                                   slowk_matype=0,\n",
    "                                   slowd_period=3,\n",
    "                                   slowd_matype=0)\n",
    "    \n",
    "    J_values = 3 * np.array(K_values) - 2 * np.array(D_values)\n",
    "\n",
    "    Data_Total_pd.loc[Data_Total_pd['code'] == stock_name,\"KDJ_K\"] = np.array(K_values)\n",
    "    Data_Total_pd.loc[Data_Total_pd['code'] == stock_name,\"KDJ_D\"] = np.array(D_values)\n",
    "    Data_Total_pd.loc[Data_Total_pd['code'] == stock_name,\"KDJ_J\"] = np.array(J_values)\n",
    "    \n",
    "    \n",
    "#     print Data_Total_pd\n",
    "    \n",
    "#     print len(K_values),len(D_values),len(J_values)\n",
    "\n",
    "#     print K_values,D_values,J_values\n",
    "    \n",
    "    \n",
    "#     print stock_price['high'].values,stock_price['low'].values,stock_price['close'].values\n",
    "#     print len(slowk), len(slowd)\n",
    "#     print slowk, slowd\n",
    "Data_Total_pd = Data_Total_pd.fillna(0)\n"
   ]
  },
  {
   "cell_type": "markdown",
   "metadata": {},
   "source": [
    "开始计算RSI指标"
   ]
  },
  {
   "cell_type": "code",
   "execution_count": 9,
   "metadata": {},
   "outputs": [],
   "source": [
    "Data_Total_pd[\"RSI\"] = None\n",
    "\n",
    "for stock_name in set(stock_list_all):\n",
    "    rsi_values = []\n",
    "    \n",
    "    rsi_price = get_price(stock_name, count = sample_count, end_date=terminal_date, frequency='1d', \n",
    "                            fields=['high','low','close'], fq='none')\n",
    "    \n",
    "    rsi_price = rsi_price.fillna(0)\n",
    "    rsi_values = talib.RSI(np.array(rsi_price['close']), 12)       #RSI的天数一般是6、12、24\n",
    "\n",
    "#     print len(rsi_values)\n",
    "#     print rsi_values\n",
    "    \n",
    "    Data_Total_pd.loc[Data_Total_pd['code'] == stock_name,\"RSI\"] = np.array(rsi_values)\n",
    "    \n",
    "#     print Data_Total_pd\n",
    "Data_Total_pd = Data_Total_pd.fillna(0)\n"
   ]
  },
  {
   "cell_type": "markdown",
   "metadata": {},
   "source": [
    "开始计算动量指标“MOM”"
   ]
  },
  {
   "cell_type": "code",
   "execution_count": 10,
   "metadata": {},
   "outputs": [],
   "source": [
    "Data_Total_pd[\"MOM\"] = None\n",
    "\n",
    "# 选择一条10日均线作为中间线，判断\n",
    "Data_Total_pd[\"MOM_gap\"] = None\n",
    "\n",
    "for stock_name in set(stock_list_all):\n",
    "    MOM_values = []\n",
    "    MOM_gap_values = []\n",
    "    \n",
    "    mom_price = list(Data_Total_pd[Data_Total_pd['code'] == stock_name]['avg_price'])\n",
    "    \n",
    "   \n",
    "    MOM_values = talib.MOM(np.array(mom_price), timeperiod = 25)\n",
    "\n",
    "    MOM_gap_values = talib.MOM(np.array(mom_price), timeperiod = 25) -  talib.EMA(np.array(talib.MOM(np.array(mom_price), timeperiod = 25)), timeperiod=6)\n",
    "    \n",
    "\n",
    "#     print len(MOM_values)\n",
    "#     print MOM_values\n",
    "    \n",
    "#     print len(MOM_gap_values)\n",
    "#     print MOM_gap_values\n",
    "    Data_Total_pd.loc[Data_Total_pd['code'] == stock_name,\"MOM\"] = np.array(MOM_values)\n",
    "    \n",
    "    Data_Total_pd.loc[Data_Total_pd['code'] == stock_name,\"MOM_gap\"] = np.array(MOM_gap_values)\n",
    "\n",
    "Data_Total_pd = Data_Total_pd.fillna(0)\n"
   ]
  },
  {
   "cell_type": "markdown",
   "metadata": {},
   "source": [
    "开始计算能量指标\n",
    "1、OBV，能量潮指标\n",
    "今日OBV=昨天OBV+sgn×今天的成交量。以收盘价为例，其中，sgn是符号函数，其数值由下式决定：\n",
    "\n",
    "sgn=+1 今日收盘价>昨日收盘价；\n",
    "\n",
    "sgn=-1 今日收盘价<昨日收盘价；\n",
    "\n",
    "sgn=0 今日收盘价=昨日收盘价。\n",
    "\n",
    "2、多空比率净额= [（收盘价－最低价）－（最高价-收盘价）] ÷（ 最高价－最低价）×今天的成交量V"
   ]
  },
  {
   "cell_type": "code",
   "execution_count": 11,
   "metadata": {},
   "outputs": [],
   "source": [
    "Data_Total_pd[\"OBV\"] = None\n",
    "Data_Total_pd[\"Long_Short_Rate_OBV\"] = None\n",
    "\n",
    "for stock_name in set(stock_list_all):\n",
    "    OBV_values = []\n",
    "\n",
    "    \n",
    "    obv_price = get_price(stock_name, count = sample_count, end_date=terminal_date, frequency='1d', \n",
    "                            fields=['open','high','low','close','volume'], fq='none')\n",
    "    \n",
    "    obv_price['avg'] = obv_price['open']*0.5 + obv_price['close']*0.5\n",
    "    obv_price = obv_price.fillna(0)\n",
    "    \n",
    "    OBV_values = talib.OBV(obv_price['avg'].values,double(obv_price['volume'].values))\n",
    "#     print len(OBV_values)\n",
    "#     print OBV_values\n",
    "    \n",
    "    \n",
    "    # 做了归一化\n",
    "    Long_Short_Rate_OBV_values = []\n",
    "    \n",
    "    OBV_gap = 0 \n",
    "    for i in range(0,len(obv_price['close'])):\n",
    "        OBV_gap = ((obv_price['close'].values[i]-obv_price['low'].values[i]) \\\n",
    "                   -(obv_price['high'].values[i]-obv_price['close'].values[i])) \\\n",
    "                  /(obv_price['high'].values[i]-obv_price['low'].values[i])\n",
    "\n",
    "        if isnan(OBV_gap):\n",
    "            OBV_gap = 0\n",
    "        \n",
    "        if i == 0:\n",
    "            Long_Short_Rate_OBV_values.append(obv_price['volume'].values[i])\n",
    "        else:\n",
    "            Long_Short_Rate_OBV_values.append(float(Long_Short_Rate_OBV_values[-1]) + float(OBV_gap)*float(obv_price['volume'].values[i]))\n",
    "        \n",
    "    Data_Total_pd.loc[Data_Total_pd['code'] == stock_name,\"OBV\"] = np.array(OBV_values)\n",
    "    Data_Total_pd.loc[Data_Total_pd['code'] == stock_name,\"Long_Short_Rate_OBV\"] = np.array(Long_Short_Rate_OBV_values)       \n",
    "    \n",
    "Data_Total_pd = Data_Total_pd.fillna(0)\n"
   ]
  },
  {
   "cell_type": "markdown",
   "metadata": {},
   "source": [
    "写入文件"
   ]
  },
  {
   "cell_type": "code",
   "execution_count": 12,
   "metadata": {},
   "outputs": [],
   "source": [
    "write_file('Data_Total_pd1.csv', Data_Total_pd.to_csv(), append=False) #写到文件中\n"
   ]
  },
  {
   "cell_type": "code",
   "execution_count": null,
   "metadata": {},
   "outputs": [],
   "source": []
  }
 ],
 "metadata": {
  "kernelspec": {
   "display_name": "Python 2",
   "language": "python",
   "name": "python2"
  },
  "language_info": {
   "codemirror_mode": {
    "name": "ipython",
    "version": 2
   },
   "file_extension": ".py",
   "mimetype": "text/x-python",
   "name": "python",
   "nbconvert_exporter": "python",
   "pygments_lexer": "ipython2",
   "version": "2.7.10"
  }
 },
 "nbformat": 4,
 "nbformat_minor": 2
}
